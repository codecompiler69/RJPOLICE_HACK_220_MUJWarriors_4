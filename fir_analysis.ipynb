{
 "cells": [
  {
   "cell_type": "code",
   "execution_count": 18,
   "metadata": {},
   "outputs": [],
   "source": [
    "import pandas as pd\n",
    "import numpy as np\n",
    "from sklearn.feature_extraction.text import CountVectorizer\n",
    "from sklearn.model_selection import train_test_split\n",
    "from sklearn.naive_bayes import MultinomialNB\n",
    "from sklearn.metrics import accuracy_score"
   ]
  },
  {
   "cell_type": "code",
   "execution_count": 19,
   "metadata": {},
   "outputs": [
    {
     "data": {
      "text/html": [
       "<div>\n",
       "<style scoped>\n",
       "    .dataframe tbody tr th:only-of-type {\n",
       "        vertical-align: middle;\n",
       "    }\n",
       "\n",
       "    .dataframe tbody tr th {\n",
       "        vertical-align: top;\n",
       "    }\n",
       "\n",
       "    .dataframe thead th {\n",
       "        text-align: right;\n",
       "    }\n",
       "</style>\n",
       "<table border=\"1\" class=\"dataframe\">\n",
       "  <thead>\n",
       "    <tr style=\"text-align: right;\">\n",
       "      <th></th>\n",
       "      <th>URL</th>\n",
       "      <th>Description</th>\n",
       "      <th>Offense</th>\n",
       "      <th>Punishment</th>\n",
       "      <th>Cognizable</th>\n",
       "      <th>Bailable</th>\n",
       "      <th>Court</th>\n",
       "    </tr>\n",
       "  </thead>\n",
       "  <tbody>\n",
       "    <tr>\n",
       "      <th>0</th>\n",
       "      <td>https://lawrato.com/indian-kanoon/ipc/section-140</td>\n",
       "      <td>Description of IPC Section 140\\nAccording to s...</td>\n",
       "      <td>Wearing the dress or carrying any token used b...</td>\n",
       "      <td>3 Months or Fine or Both</td>\n",
       "      <td>Cognizable</td>\n",
       "      <td>Bailable</td>\n",
       "      <td>Any Magistrate</td>\n",
       "    </tr>\n",
       "    <tr>\n",
       "      <th>1</th>\n",
       "      <td>https://lawrato.com/indian-kanoon/ipc/section-127</td>\n",
       "      <td>Description of IPC Section 127\\nAccording to s...</td>\n",
       "      <td>Receiving property taken by war or depredation...</td>\n",
       "      <td>7 Years + Fine + forfeiture of property</td>\n",
       "      <td>Cognizable</td>\n",
       "      <td>Non-Bailable</td>\n",
       "      <td>Court of Session</td>\n",
       "    </tr>\n",
       "    <tr>\n",
       "      <th>2</th>\n",
       "      <td>https://lawrato.com/indian-kanoon/ipc/section-128</td>\n",
       "      <td>Description of IPC Section 128\\nAccording to s...</td>\n",
       "      <td>Public servant voluntarily allowing prisoner o...</td>\n",
       "      <td>Imprisonment for Life or 10 Years + Fine</td>\n",
       "      <td>Cognizable</td>\n",
       "      <td>Non-Bailable</td>\n",
       "      <td>Court of Session</td>\n",
       "    </tr>\n",
       "    <tr>\n",
       "      <th>3</th>\n",
       "      <td>https://lawrato.com/indian-kanoon/ipc/section-129</td>\n",
       "      <td>Description of IPC Section 129\\nAccording to s...</td>\n",
       "      <td>Public servant negligently suffering prisoner ...</td>\n",
       "      <td>Simple Imprisonment 3 Years + Fine</td>\n",
       "      <td>Cognizable</td>\n",
       "      <td>Bailable</td>\n",
       "      <td>Magistrate First Class</td>\n",
       "    </tr>\n",
       "    <tr>\n",
       "      <th>4</th>\n",
       "      <td>https://lawrato.com/indian-kanoon/ipc/section-130</td>\n",
       "      <td>Description of IPC Section 130\\nAccording to s...</td>\n",
       "      <td>Aiding escape of, rescuing or harbouring, such...</td>\n",
       "      <td>Imprisonment for Life or 10 Years + Fine</td>\n",
       "      <td>Cognizable</td>\n",
       "      <td>Non-Bailable</td>\n",
       "      <td>Court of Session</td>\n",
       "    </tr>\n",
       "  </tbody>\n",
       "</table>\n",
       "</div>"
      ],
      "text/plain": [
       "                                                 URL  \\\n",
       "0  https://lawrato.com/indian-kanoon/ipc/section-140   \n",
       "1  https://lawrato.com/indian-kanoon/ipc/section-127   \n",
       "2  https://lawrato.com/indian-kanoon/ipc/section-128   \n",
       "3  https://lawrato.com/indian-kanoon/ipc/section-129   \n",
       "4  https://lawrato.com/indian-kanoon/ipc/section-130   \n",
       "\n",
       "                                         Description  \\\n",
       "0  Description of IPC Section 140\\nAccording to s...   \n",
       "1  Description of IPC Section 127\\nAccording to s...   \n",
       "2  Description of IPC Section 128\\nAccording to s...   \n",
       "3  Description of IPC Section 129\\nAccording to s...   \n",
       "4  Description of IPC Section 130\\nAccording to s...   \n",
       "\n",
       "                                             Offense  \\\n",
       "0  Wearing the dress or carrying any token used b...   \n",
       "1  Receiving property taken by war or depredation...   \n",
       "2  Public servant voluntarily allowing prisoner o...   \n",
       "3  Public servant negligently suffering prisoner ...   \n",
       "4  Aiding escape of, rescuing or harbouring, such...   \n",
       "\n",
       "                                 Punishment  Cognizable      Bailable  \\\n",
       "0                  3 Months or Fine or Both  Cognizable      Bailable   \n",
       "1   7 Years + Fine + forfeiture of property  Cognizable  Non-Bailable   \n",
       "2  Imprisonment for Life or 10 Years + Fine  Cognizable  Non-Bailable   \n",
       "3        Simple Imprisonment 3 Years + Fine  Cognizable      Bailable   \n",
       "4  Imprisonment for Life or 10 Years + Fine  Cognizable  Non-Bailable   \n",
       "\n",
       "                    Court  \n",
       "0          Any Magistrate  \n",
       "1        Court of Session  \n",
       "2        Court of Session  \n",
       "3  Magistrate First Class  \n",
       "4        Court of Session  "
      ]
     },
     "execution_count": 19,
     "metadata": {},
     "output_type": "execute_result"
    }
   ],
   "source": [
    "fir = pd.read_csv(\"C:/Users/tosar/Downloads/FIR_DATASET.csv\")\n",
    "fir.head()"
   ]
  },
  {
   "cell_type": "code",
   "execution_count": 20,
   "metadata": {},
   "outputs": [
    {
     "data": {
      "text/html": [
       "<div>\n",
       "<style scoped>\n",
       "    .dataframe tbody tr th:only-of-type {\n",
       "        vertical-align: middle;\n",
       "    }\n",
       "\n",
       "    .dataframe tbody tr th {\n",
       "        vertical-align: top;\n",
       "    }\n",
       "\n",
       "    .dataframe thead th {\n",
       "        text-align: right;\n",
       "    }\n",
       "</style>\n",
       "<table border=\"1\" class=\"dataframe\">\n",
       "  <thead>\n",
       "    <tr style=\"text-align: right;\">\n",
       "      <th></th>\n",
       "      <th>Description</th>\n",
       "      <th>Offense</th>\n",
       "      <th>Punishment</th>\n",
       "      <th>Cognizable</th>\n",
       "      <th>Bailable</th>\n",
       "      <th>Court</th>\n",
       "    </tr>\n",
       "  </thead>\n",
       "  <tbody>\n",
       "    <tr>\n",
       "      <th>0</th>\n",
       "      <td>Description of IPC Section 140\\nAccording to s...</td>\n",
       "      <td>Wearing the dress or carrying any token used b...</td>\n",
       "      <td>3 Months or Fine or Both</td>\n",
       "      <td>Cognizable</td>\n",
       "      <td>Bailable</td>\n",
       "      <td>Any Magistrate</td>\n",
       "    </tr>\n",
       "    <tr>\n",
       "      <th>1</th>\n",
       "      <td>Description of IPC Section 127\\nAccording to s...</td>\n",
       "      <td>Receiving property taken by war or depredation...</td>\n",
       "      <td>7 Years + Fine + forfeiture of property</td>\n",
       "      <td>Cognizable</td>\n",
       "      <td>Non-Bailable</td>\n",
       "      <td>Court of Session</td>\n",
       "    </tr>\n",
       "    <tr>\n",
       "      <th>2</th>\n",
       "      <td>Description of IPC Section 128\\nAccording to s...</td>\n",
       "      <td>Public servant voluntarily allowing prisoner o...</td>\n",
       "      <td>Imprisonment for Life or 10 Years + Fine</td>\n",
       "      <td>Cognizable</td>\n",
       "      <td>Non-Bailable</td>\n",
       "      <td>Court of Session</td>\n",
       "    </tr>\n",
       "    <tr>\n",
       "      <th>3</th>\n",
       "      <td>Description of IPC Section 129\\nAccording to s...</td>\n",
       "      <td>Public servant negligently suffering prisoner ...</td>\n",
       "      <td>Simple Imprisonment 3 Years + Fine</td>\n",
       "      <td>Cognizable</td>\n",
       "      <td>Bailable</td>\n",
       "      <td>Magistrate First Class</td>\n",
       "    </tr>\n",
       "    <tr>\n",
       "      <th>4</th>\n",
       "      <td>Description of IPC Section 130\\nAccording to s...</td>\n",
       "      <td>Aiding escape of, rescuing or harbouring, such...</td>\n",
       "      <td>Imprisonment for Life or 10 Years + Fine</td>\n",
       "      <td>Cognizable</td>\n",
       "      <td>Non-Bailable</td>\n",
       "      <td>Court of Session</td>\n",
       "    </tr>\n",
       "  </tbody>\n",
       "</table>\n",
       "</div>"
      ],
      "text/plain": [
       "                                         Description  \\\n",
       "0  Description of IPC Section 140\\nAccording to s...   \n",
       "1  Description of IPC Section 127\\nAccording to s...   \n",
       "2  Description of IPC Section 128\\nAccording to s...   \n",
       "3  Description of IPC Section 129\\nAccording to s...   \n",
       "4  Description of IPC Section 130\\nAccording to s...   \n",
       "\n",
       "                                             Offense  \\\n",
       "0  Wearing the dress or carrying any token used b...   \n",
       "1  Receiving property taken by war or depredation...   \n",
       "2  Public servant voluntarily allowing prisoner o...   \n",
       "3  Public servant negligently suffering prisoner ...   \n",
       "4  Aiding escape of, rescuing or harbouring, such...   \n",
       "\n",
       "                                 Punishment  Cognizable      Bailable  \\\n",
       "0                  3 Months or Fine or Both  Cognizable      Bailable   \n",
       "1   7 Years + Fine + forfeiture of property  Cognizable  Non-Bailable   \n",
       "2  Imprisonment for Life or 10 Years + Fine  Cognizable  Non-Bailable   \n",
       "3        Simple Imprisonment 3 Years + Fine  Cognizable      Bailable   \n",
       "4  Imprisonment for Life or 10 Years + Fine  Cognizable  Non-Bailable   \n",
       "\n",
       "                    Court  \n",
       "0          Any Magistrate  \n",
       "1        Court of Session  \n",
       "2        Court of Session  \n",
       "3  Magistrate First Class  \n",
       "4        Court of Session  "
      ]
     },
     "execution_count": 20,
     "metadata": {},
     "output_type": "execute_result"
    }
   ],
   "source": [
    "fir1 = fir.drop('URL',axis=1)\n",
    "fir1.head() "
   ]
  },
  {
   "cell_type": "code",
   "execution_count": 21,
   "metadata": {},
   "outputs": [
    {
     "data": {
      "text/plain": [
       "Description    0\n",
       "Offense        0\n",
       "Punishment     0\n",
       "Cognizable     0\n",
       "Bailable       0\n",
       "Court          0\n",
       "dtype: int64"
      ]
     },
     "execution_count": 21,
     "metadata": {},
     "output_type": "execute_result"
    }
   ],
   "source": [
    "fir1.isnull().sum()\n",
    "fir1['Offense'] = fir1['Offense'].fillna('Not Available')\n",
    "fir1['Punishment'] = fir1['Punishment'].fillna('Not Available')\n",
    "fir1['Cognizable'] = fir1['Cognizable'].fillna('Not Available')\n",
    "fir1['Bailable'] = fir1['Bailable'].fillna('Not Available')\n",
    "fir1['Court'] = fir1['Court'].fillna('Not Available')\n",
    "fir1.isnull().sum()\n"
   ]
  },
  {
   "cell_type": "code",
   "execution_count": 22,
   "metadata": {},
   "outputs": [],
   "source": [
    "X = fir1['Description']\n",
    "y = fir1['Offense']  # Replace 'label' with the actual column name containing your target variable\n"
   ]
  },
  {
   "cell_type": "code",
   "execution_count": 23,
   "metadata": {},
   "outputs": [],
   "source": [
    "X_train, X_test, y_train, y_test = train_test_split(X, y, test_size=0.2, random_state=42)"
   ]
  },
  {
   "cell_type": "code",
   "execution_count": 24,
   "metadata": {},
   "outputs": [],
   "source": [
    "vectorizer = CountVectorizer()\n",
    "X_train_bow = vectorizer.fit_transform(X_train)\n",
    "X_test_bow = vectorizer.transform(X_test)"
   ]
  },
  {
   "cell_type": "code",
   "execution_count": 25,
   "metadata": {},
   "outputs": [
    {
     "data": {
      "text/html": [
       "<style>#sk-container-id-1 {color: black;}#sk-container-id-1 pre{padding: 0;}#sk-container-id-1 div.sk-toggleable {background-color: white;}#sk-container-id-1 label.sk-toggleable__label {cursor: pointer;display: block;width: 100%;margin-bottom: 0;padding: 0.3em;box-sizing: border-box;text-align: center;}#sk-container-id-1 label.sk-toggleable__label-arrow:before {content: \"▸\";float: left;margin-right: 0.25em;color: #696969;}#sk-container-id-1 label.sk-toggleable__label-arrow:hover:before {color: black;}#sk-container-id-1 div.sk-estimator:hover label.sk-toggleable__label-arrow:before {color: black;}#sk-container-id-1 div.sk-toggleable__content {max-height: 0;max-width: 0;overflow: hidden;text-align: left;background-color: #f0f8ff;}#sk-container-id-1 div.sk-toggleable__content pre {margin: 0.2em;color: black;border-radius: 0.25em;background-color: #f0f8ff;}#sk-container-id-1 input.sk-toggleable__control:checked~div.sk-toggleable__content {max-height: 200px;max-width: 100%;overflow: auto;}#sk-container-id-1 input.sk-toggleable__control:checked~label.sk-toggleable__label-arrow:before {content: \"▾\";}#sk-container-id-1 div.sk-estimator input.sk-toggleable__control:checked~label.sk-toggleable__label {background-color: #d4ebff;}#sk-container-id-1 div.sk-label input.sk-toggleable__control:checked~label.sk-toggleable__label {background-color: #d4ebff;}#sk-container-id-1 input.sk-hidden--visually {border: 0;clip: rect(1px 1px 1px 1px);clip: rect(1px, 1px, 1px, 1px);height: 1px;margin: -1px;overflow: hidden;padding: 0;position: absolute;width: 1px;}#sk-container-id-1 div.sk-estimator {font-family: monospace;background-color: #f0f8ff;border: 1px dotted black;border-radius: 0.25em;box-sizing: border-box;margin-bottom: 0.5em;}#sk-container-id-1 div.sk-estimator:hover {background-color: #d4ebff;}#sk-container-id-1 div.sk-parallel-item::after {content: \"\";width: 100%;border-bottom: 1px solid gray;flex-grow: 1;}#sk-container-id-1 div.sk-label:hover label.sk-toggleable__label {background-color: #d4ebff;}#sk-container-id-1 div.sk-serial::before {content: \"\";position: absolute;border-left: 1px solid gray;box-sizing: border-box;top: 0;bottom: 0;left: 50%;z-index: 0;}#sk-container-id-1 div.sk-serial {display: flex;flex-direction: column;align-items: center;background-color: white;padding-right: 0.2em;padding-left: 0.2em;position: relative;}#sk-container-id-1 div.sk-item {position: relative;z-index: 1;}#sk-container-id-1 div.sk-parallel {display: flex;align-items: stretch;justify-content: center;background-color: white;position: relative;}#sk-container-id-1 div.sk-item::before, #sk-container-id-1 div.sk-parallel-item::before {content: \"\";position: absolute;border-left: 1px solid gray;box-sizing: border-box;top: 0;bottom: 0;left: 50%;z-index: -1;}#sk-container-id-1 div.sk-parallel-item {display: flex;flex-direction: column;z-index: 1;position: relative;background-color: white;}#sk-container-id-1 div.sk-parallel-item:first-child::after {align-self: flex-end;width: 50%;}#sk-container-id-1 div.sk-parallel-item:last-child::after {align-self: flex-start;width: 50%;}#sk-container-id-1 div.sk-parallel-item:only-child::after {width: 0;}#sk-container-id-1 div.sk-dashed-wrapped {border: 1px dashed gray;margin: 0 0.4em 0.5em 0.4em;box-sizing: border-box;padding-bottom: 0.4em;background-color: white;}#sk-container-id-1 div.sk-label label {font-family: monospace;font-weight: bold;display: inline-block;line-height: 1.2em;}#sk-container-id-1 div.sk-label-container {text-align: center;}#sk-container-id-1 div.sk-container {/* jupyter's `normalize.less` sets `[hidden] { display: none; }` but bootstrap.min.css set `[hidden] { display: none !important; }` so we also need the `!important` here to be able to override the default hidden behavior on the sphinx rendered scikit-learn.org. See: https://github.com/scikit-learn/scikit-learn/issues/21755 */display: inline-block !important;position: relative;}#sk-container-id-1 div.sk-text-repr-fallback {display: none;}</style><div id=\"sk-container-id-1\" class=\"sk-top-container\"><div class=\"sk-text-repr-fallback\"><pre>MultinomialNB()</pre><b>In a Jupyter environment, please rerun this cell to show the HTML representation or trust the notebook. <br />On GitHub, the HTML representation is unable to render, please try loading this page with nbviewer.org.</b></div><div class=\"sk-container\" hidden><div class=\"sk-item\"><div class=\"sk-estimator sk-toggleable\"><input class=\"sk-toggleable__control sk-hidden--visually\" id=\"sk-estimator-id-1\" type=\"checkbox\" checked><label for=\"sk-estimator-id-1\" class=\"sk-toggleable__label sk-toggleable__label-arrow\">MultinomialNB</label><div class=\"sk-toggleable__content\"><pre>MultinomialNB()</pre></div></div></div></div></div>"
      ],
      "text/plain": [
       "MultinomialNB()"
      ]
     },
     "execution_count": 25,
     "metadata": {},
     "output_type": "execute_result"
    }
   ],
   "source": [
    "# Use the bag-of-words representation to train a simple NLP model (e.g., Naive Bayes)\n",
    "model = MultinomialNB()\n",
    "model.fit(X_train_bow, y_train)"
   ]
  },
  {
   "cell_type": "code",
   "execution_count": 26,
   "metadata": {},
   "outputs": [],
   "source": [
    "# Make predictions on the test set\n",
    "predictions = model.predict(X_test_bow)"
   ]
  },
  {
   "cell_type": "code",
   "execution_count": 31,
   "metadata": {},
   "outputs": [
    {
     "ename": "ValueError",
     "evalue": "Expected 2D array, got scalar array instead:\narray=E Information Report\n(ores section 184 code of criminal procedure)\n\n4. District:- A.C.B. he) 12124 Head Constable Centre, ony Jaipur\nSerial Number vss Date...... 22-12) 202%\n2. 0) Act Aero Prevention Act 1988 (As amended in 2018 Section-1, 7A\n(2) Act- Indian Penal Code Section - 120B\n8) Act... ARE\n(@) Other Acts promulgated... only ~\n3. @) Journal General Report Number............ OS 9. Time...... 3... 29.\n(@) Day of crime...Monday...Date...18122023\n(c) Date of receipt of information at the police station... 2209202 3 time 05.30 pm\n4. Types of Information Written,” Oral – Handwritten Report\n, Place of incident:- Office of Sub Divisional Officer Mandalgarh District Bhilwara\n(Direction and distance from police station - Bajanib Chowki is about 105 km in west-south direction from Kota.\n(6) 'Address:- Office of Sub Divisional Officer Mandalgarh District Bhilwara\n'Jarayam dehi number..\n(c) If it is outside the limits of this police station, then\nPolice Station –\n6... Complainant//Informant :-\n(@) Nose-Shri Sanjay Rathod\n(b) Father's name - Shri Ramswaroop\n(c) Date/Year of Birth… Age 42 years\n(d) Nationality:-Indian (y) Date of issue of passport.\nPlace of issue.\n(9Business-Business\n(L) Address – Aditya Awas Bajrang Nagar Kota Mobile No. 9829080944\n7. Details of known/unknown suspected accused with complete particulars:-\n\n() Shri Mahei Gagoria S/o Shri Bhairlal Gagoria Caste Ranger Age 27 years Resident Hiv Kutir\nShastri Nagar Kankroli, Rajsamand Hall Subdivision Officer, Subdivision Mandalgarh District\nBhilwara.\n\n© Mr. Rahul Dhakad son of Mr. Bhudev Singh age 32 years resident wate kalan tehsil wair district\nBharatpur Hall Tehsildar, Tehsil Mandalgarh District Bhilwara.\n\n8. SR of delay in giving information by the complainant/informant...\n& Particulars of stolen property involved (Attach additional page if required)\n10 Total value of stolen/involved properties...Rs.0000//-.\n\n41… Panchnama/“UD. Case number (if any)\n\nContents First Information Report (if required)\n\nSir,\nIt is requested that on date 22002009 at 5.30 PM the complainant Shri Sanjay Singh Rathod S/o.\nShri Ramswaroop Caste Rajput Age 42 years Resident Aditya Residence Bajrang Nagar Kota Bureau Office\nin Kota Have you ever thought of sending a written letter to the Additional Superintendent of Police to this effect?\nPresented that the applicant resides at Aditya Awas Bajrang Nagar. My father-in-law Mr. Chandraveer Singh\nShaktawat was village Shyampura Panchayat Samiti Bijolia Tehsil Mandalgarh whose first marriage was Smt.\nHe is married to Bimla Bhadauria who has a daughter named Darpan. I have been married to Darpan for almost 15 years.\nHad happened before. My father-in-law married Mrs. Kamalendu Kanwar for the second time without divorce. my mother in law\nDue to my job in Jhalrapatan Hospital, my mother-in-law Bimal Bhadauria mostly with us\nUsed to come and go. Therefore, after retirement, she started living with me. My father in law death July 2022\nDue to marriage, father-in-law's second wife Kamalendu Kar (Sarpanch and Tehsildar) Seema Badhel\nBy meeting him and claiming to be my father-in-law's heir, my father-in-law Chandraveer Singh ji's entire\nAccount No. 124 of Agricultural Land Patwar Halka Shyampura, District No. 10001019,\n891,892.893,894.898,9999.900.901.902.903: and account number 123, 1602, 1609,\n169516a7,1698, 1699,1700,1 Kamalendu Kanwar himself in the documents of 701,1702, 1703,1704/1771,172\n\nsa.\nReshape your data either using array.reshape(-1, 1) if your data has a single feature or array.reshape(1, -1) if it contains a single sample.",
     "output_type": "error",
     "traceback": [
      "\u001b[1;31m---------------------------------------------------------------------------\u001b[0m",
      "\u001b[1;31mValueError\u001b[0m                                Traceback (most recent call last)",
      "Cell \u001b[1;32mIn[31], line 2\u001b[0m\n\u001b[0;32m      1\u001b[0m test\u001b[38;5;241m=\u001b[39m\u001b[38;5;124m\"\u001b[39m\u001b[38;5;124mE Information Report\u001b[39m\u001b[38;5;130;01m\\n\u001b[39;00m\u001b[38;5;124m(ores section 184 code of criminal procedure)\u001b[39m\u001b[38;5;130;01m\\n\u001b[39;00m\u001b[38;5;130;01m\\n\u001b[39;00m\u001b[38;5;124m4. District:- A.C.B. he) 12124 Head Constable Centre, ony Jaipur\u001b[39m\u001b[38;5;130;01m\\n\u001b[39;00m\u001b[38;5;124mSerial Number vss Date...... 22-12) 202\u001b[39m\u001b[38;5;124m%\u001b[39m\u001b[38;5;130;01m\\n\u001b[39;00m\u001b[38;5;124m2. 0) Act Aero Prevention Act 1988 (As amended in 2018 Section-1, 7A\u001b[39m\u001b[38;5;130;01m\\n\u001b[39;00m\u001b[38;5;124m(2) Act- Indian Penal Code Section - 120B\u001b[39m\u001b[38;5;130;01m\\n\u001b[39;00m\u001b[38;5;124m8) Act... ARE\u001b[39m\u001b[38;5;130;01m\\n\u001b[39;00m\u001b[38;5;124m(@) Other Acts promulgated... only ~\u001b[39m\u001b[38;5;130;01m\\n\u001b[39;00m\u001b[38;5;124m3. @) Journal General Report Number............ OS 9. Time...... 3... 29.\u001b[39m\u001b[38;5;130;01m\\n\u001b[39;00m\u001b[38;5;124m(@) Day of crime...Monday...Date...18122023\u001b[39m\u001b[38;5;130;01m\\n\u001b[39;00m\u001b[38;5;124m(c) Date of receipt of information at the police station... 2209202 3 time 05.30 pm\u001b[39m\u001b[38;5;130;01m\\n\u001b[39;00m\u001b[38;5;124m4. Types of Information Written,” Oral – Handwritten Report\u001b[39m\u001b[38;5;130;01m\\n\u001b[39;00m\u001b[38;5;124m, Place of incident:- Office of Sub Divisional Officer Mandalgarh District Bhilwara\u001b[39m\u001b[38;5;130;01m\\n\u001b[39;00m\u001b[38;5;124m(Direction and distance from police station - Bajanib Chowki is about 105 km in west-south direction from Kota.\u001b[39m\u001b[38;5;130;01m\\n\u001b[39;00m\u001b[38;5;124m(6) \u001b[39m\u001b[38;5;124m'\u001b[39m\u001b[38;5;124mAddress:- Office of Sub Divisional Officer Mandalgarh District Bhilwara\u001b[39m\u001b[38;5;130;01m\\n\u001b[39;00m\u001b[38;5;124m'\u001b[39m\u001b[38;5;124mJarayam dehi number..\u001b[39m\u001b[38;5;130;01m\\n\u001b[39;00m\u001b[38;5;124m(c) If it is outside the limits of this police station, then\u001b[39m\u001b[38;5;130;01m\\n\u001b[39;00m\u001b[38;5;124mPolice Station –\u001b[39m\u001b[38;5;130;01m\\n\u001b[39;00m\u001b[38;5;124m6... Complainant//Informant :-\u001b[39m\u001b[38;5;130;01m\\n\u001b[39;00m\u001b[38;5;124m(@) Nose-Shri Sanjay Rathod\u001b[39m\u001b[38;5;130;01m\\n\u001b[39;00m\u001b[38;5;124m(b) Father\u001b[39m\u001b[38;5;124m'\u001b[39m\u001b[38;5;124ms name - Shri Ramswaroop\u001b[39m\u001b[38;5;130;01m\\n\u001b[39;00m\u001b[38;5;124m(c) Date/Year of Birth… Age 42 years\u001b[39m\u001b[38;5;130;01m\\n\u001b[39;00m\u001b[38;5;124m(d) Nationality:-Indian (y) Date of issue of passport.\u001b[39m\u001b[38;5;130;01m\\n\u001b[39;00m\u001b[38;5;124mPlace of issue.\u001b[39m\u001b[38;5;130;01m\\n\u001b[39;00m\u001b[38;5;124m(9Business-Business\u001b[39m\u001b[38;5;130;01m\\n\u001b[39;00m\u001b[38;5;124m(L) Address – Aditya Awas Bajrang Nagar Kota Mobile No. 9829080944\u001b[39m\u001b[38;5;130;01m\\n\u001b[39;00m\u001b[38;5;124m7. Details of known/unknown suspected accused with complete particulars:-\u001b[39m\u001b[38;5;130;01m\\n\u001b[39;00m\u001b[38;5;130;01m\\n\u001b[39;00m\u001b[38;5;124m() Shri Mahei Gagoria S/o Shri Bhairlal Gagoria Caste Ranger Age 27 years Resident Hiv Kutir\u001b[39m\u001b[38;5;130;01m\\n\u001b[39;00m\u001b[38;5;124mShastri Nagar Kankroli, Rajsamand Hall Subdivision Officer, Subdivision Mandalgarh District\u001b[39m\u001b[38;5;130;01m\\n\u001b[39;00m\u001b[38;5;124mBhilwara.\u001b[39m\u001b[38;5;130;01m\\n\u001b[39;00m\u001b[38;5;130;01m\\n\u001b[39;00m\u001b[38;5;124m© Mr. Rahul Dhakad son of Mr. Bhudev Singh age 32 years resident wate kalan tehsil wair district\u001b[39m\u001b[38;5;130;01m\\n\u001b[39;00m\u001b[38;5;124mBharatpur Hall Tehsildar, Tehsil Mandalgarh District Bhilwara.\u001b[39m\u001b[38;5;130;01m\\n\u001b[39;00m\u001b[38;5;130;01m\\n\u001b[39;00m\u001b[38;5;124m8. SR of delay in giving information by the complainant/informant...\u001b[39m\u001b[38;5;130;01m\\n\u001b[39;00m\u001b[38;5;124m& Particulars of stolen property involved (Attach additional page if required)\u001b[39m\u001b[38;5;130;01m\\n\u001b[39;00m\u001b[38;5;124m10 Total value of stolen/involved properties...Rs.0000//-.\u001b[39m\u001b[38;5;130;01m\\n\u001b[39;00m\u001b[38;5;130;01m\\n\u001b[39;00m\u001b[38;5;124m41… Panchnama/“UD. Case number (if any)\u001b[39m\u001b[38;5;130;01m\\n\u001b[39;00m\u001b[38;5;130;01m\\n\u001b[39;00m\u001b[38;5;124mContents First Information Report (if required)\u001b[39m\u001b[38;5;130;01m\\n\u001b[39;00m\u001b[38;5;130;01m\\n\u001b[39;00m\u001b[38;5;124mSir,\u001b[39m\u001b[38;5;130;01m\\n\u001b[39;00m\u001b[38;5;124mIt is requested that on date 22002009 at 5.30 PM the complainant Shri Sanjay Singh Rathod S/o.\u001b[39m\u001b[38;5;130;01m\\n\u001b[39;00m\u001b[38;5;124mShri Ramswaroop Caste Rajput Age 42 years Resident Aditya Residence Bajrang Nagar Kota Bureau Office\u001b[39m\u001b[38;5;130;01m\\n\u001b[39;00m\u001b[38;5;124min Kota Have you ever thought of sending a written letter to the Additional Superintendent of Police to this effect?\u001b[39m\u001b[38;5;130;01m\\n\u001b[39;00m\u001b[38;5;124mPresented that the applicant resides at Aditya Awas Bajrang Nagar. My father-in-law Mr. Chandraveer Singh\u001b[39m\u001b[38;5;130;01m\\n\u001b[39;00m\u001b[38;5;124mShaktawat was village Shyampura Panchayat Samiti Bijolia Tehsil Mandalgarh whose first marriage was Smt.\u001b[39m\u001b[38;5;130;01m\\n\u001b[39;00m\u001b[38;5;124mHe is married to Bimla Bhadauria who has a daughter named Darpan. I have been married to Darpan for almost 15 years.\u001b[39m\u001b[38;5;130;01m\\n\u001b[39;00m\u001b[38;5;124mHad happened before. My father-in-law married Mrs. Kamalendu Kanwar for the second time without divorce. my mother in law\u001b[39m\u001b[38;5;130;01m\\n\u001b[39;00m\u001b[38;5;124mDue to my job in Jhalrapatan Hospital, my mother-in-law Bimal Bhadauria mostly with us\u001b[39m\u001b[38;5;130;01m\\n\u001b[39;00m\u001b[38;5;124mUsed to come and go. Therefore, after retirement, she started living with me. My father in law death July 2022\u001b[39m\u001b[38;5;130;01m\\n\u001b[39;00m\u001b[38;5;124mDue to marriage, father-in-law\u001b[39m\u001b[38;5;124m'\u001b[39m\u001b[38;5;124ms second wife Kamalendu Kar (Sarpanch and Tehsildar) Seema Badhel\u001b[39m\u001b[38;5;130;01m\\n\u001b[39;00m\u001b[38;5;124mBy meeting him and claiming to be my father-in-law\u001b[39m\u001b[38;5;124m'\u001b[39m\u001b[38;5;124ms heir, my father-in-law Chandraveer Singh ji\u001b[39m\u001b[38;5;124m'\u001b[39m\u001b[38;5;124ms entire\u001b[39m\u001b[38;5;130;01m\\n\u001b[39;00m\u001b[38;5;124mAccount No. 124 of Agricultural Land Patwar Halka Shyampura, District No. 10001019,\u001b[39m\u001b[38;5;130;01m\\n\u001b[39;00m\u001b[38;5;124m891,892.893,894.898,9999.900.901.902.903: and account number 123, 1602, 1609,\u001b[39m\u001b[38;5;130;01m\\n\u001b[39;00m\u001b[38;5;124m169516a7,1698, 1699,1700,1 Kamalendu Kanwar himself in the documents of 701,1702, 1703,1704/1771,172\u001b[39m\u001b[38;5;130;01m\\n\u001b[39;00m\u001b[38;5;130;01m\\n\u001b[39;00m\u001b[38;5;124msa\u001b[39m\u001b[38;5;124m\"\u001b[39m\n\u001b[1;32m----> 2\u001b[0m predictions \u001b[38;5;241m=\u001b[39m \u001b[43mmodel\u001b[49m\u001b[38;5;241;43m.\u001b[39;49m\u001b[43mpredict\u001b[49m\u001b[43m(\u001b[49m\u001b[43mtest\u001b[49m\u001b[43m)\u001b[49m\n",
      "File \u001b[1;32mc:\\Users\\tosar\\AppData\\Local\\Programs\\Python\\Python311\\Lib\\site-packages\\sklearn\\naive_bayes.py:101\u001b[0m, in \u001b[0;36m_BaseNB.predict\u001b[1;34m(self, X)\u001b[0m\n\u001b[0;32m     87\u001b[0m \u001b[38;5;250m\u001b[39m\u001b[38;5;124;03m\"\"\"\u001b[39;00m\n\u001b[0;32m     88\u001b[0m \u001b[38;5;124;03mPerform classification on an array of test vectors X.\u001b[39;00m\n\u001b[0;32m     89\u001b[0m \n\u001b[1;32m   (...)\u001b[0m\n\u001b[0;32m     98\u001b[0m \u001b[38;5;124;03m    Predicted target values for X.\u001b[39;00m\n\u001b[0;32m     99\u001b[0m \u001b[38;5;124;03m\"\"\"\u001b[39;00m\n\u001b[0;32m    100\u001b[0m check_is_fitted(\u001b[38;5;28mself\u001b[39m)\n\u001b[1;32m--> 101\u001b[0m X \u001b[38;5;241m=\u001b[39m \u001b[38;5;28;43mself\u001b[39;49m\u001b[38;5;241;43m.\u001b[39;49m\u001b[43m_check_X\u001b[49m\u001b[43m(\u001b[49m\u001b[43mX\u001b[49m\u001b[43m)\u001b[49m\n\u001b[0;32m    102\u001b[0m jll \u001b[38;5;241m=\u001b[39m \u001b[38;5;28mself\u001b[39m\u001b[38;5;241m.\u001b[39m_joint_log_likelihood(X)\n\u001b[0;32m    103\u001b[0m \u001b[38;5;28;01mreturn\u001b[39;00m \u001b[38;5;28mself\u001b[39m\u001b[38;5;241m.\u001b[39mclasses_[np\u001b[38;5;241m.\u001b[39margmax(jll, axis\u001b[38;5;241m=\u001b[39m\u001b[38;5;241m1\u001b[39m)]\n",
      "File \u001b[1;32mc:\\Users\\tosar\\AppData\\Local\\Programs\\Python\\Python311\\Lib\\site-packages\\sklearn\\naive_bayes.py:574\u001b[0m, in \u001b[0;36m_BaseDiscreteNB._check_X\u001b[1;34m(self, X)\u001b[0m\n\u001b[0;32m    572\u001b[0m \u001b[38;5;28;01mdef\u001b[39;00m \u001b[38;5;21m_check_X\u001b[39m(\u001b[38;5;28mself\u001b[39m, X):\n\u001b[0;32m    573\u001b[0m \u001b[38;5;250m    \u001b[39m\u001b[38;5;124;03m\"\"\"Validate X, used only in predict* methods.\"\"\"\u001b[39;00m\n\u001b[1;32m--> 574\u001b[0m     \u001b[38;5;28;01mreturn\u001b[39;00m \u001b[38;5;28;43mself\u001b[39;49m\u001b[38;5;241;43m.\u001b[39;49m\u001b[43m_validate_data\u001b[49m\u001b[43m(\u001b[49m\u001b[43mX\u001b[49m\u001b[43m,\u001b[49m\u001b[43m \u001b[49m\u001b[43maccept_sparse\u001b[49m\u001b[38;5;241;43m=\u001b[39;49m\u001b[38;5;124;43m\"\u001b[39;49m\u001b[38;5;124;43mcsr\u001b[39;49m\u001b[38;5;124;43m\"\u001b[39;49m\u001b[43m,\u001b[49m\u001b[43m \u001b[49m\u001b[43mreset\u001b[49m\u001b[38;5;241;43m=\u001b[39;49m\u001b[38;5;28;43;01mFalse\u001b[39;49;00m\u001b[43m)\u001b[49m\n",
      "File \u001b[1;32mc:\\Users\\tosar\\AppData\\Local\\Programs\\Python\\Python311\\Lib\\site-packages\\sklearn\\base.py:605\u001b[0m, in \u001b[0;36mBaseEstimator._validate_data\u001b[1;34m(self, X, y, reset, validate_separately, cast_to_ndarray, **check_params)\u001b[0m\n\u001b[0;32m    603\u001b[0m         out \u001b[38;5;241m=\u001b[39m X, y\n\u001b[0;32m    604\u001b[0m \u001b[38;5;28;01melif\u001b[39;00m \u001b[38;5;129;01mnot\u001b[39;00m no_val_X \u001b[38;5;129;01mand\u001b[39;00m no_val_y:\n\u001b[1;32m--> 605\u001b[0m     out \u001b[38;5;241m=\u001b[39m \u001b[43mcheck_array\u001b[49m\u001b[43m(\u001b[49m\u001b[43mX\u001b[49m\u001b[43m,\u001b[49m\u001b[43m \u001b[49m\u001b[43minput_name\u001b[49m\u001b[38;5;241;43m=\u001b[39;49m\u001b[38;5;124;43m\"\u001b[39;49m\u001b[38;5;124;43mX\u001b[39;49m\u001b[38;5;124;43m\"\u001b[39;49m\u001b[43m,\u001b[49m\u001b[43m \u001b[49m\u001b[38;5;241;43m*\u001b[39;49m\u001b[38;5;241;43m*\u001b[39;49m\u001b[43mcheck_params\u001b[49m\u001b[43m)\u001b[49m\n\u001b[0;32m    606\u001b[0m \u001b[38;5;28;01melif\u001b[39;00m no_val_X \u001b[38;5;129;01mand\u001b[39;00m \u001b[38;5;129;01mnot\u001b[39;00m no_val_y:\n\u001b[0;32m    607\u001b[0m     out \u001b[38;5;241m=\u001b[39m _check_y(y, \u001b[38;5;241m*\u001b[39m\u001b[38;5;241m*\u001b[39mcheck_params)\n",
      "File \u001b[1;32mc:\\Users\\tosar\\AppData\\Local\\Programs\\Python\\Python311\\Lib\\site-packages\\sklearn\\utils\\validation.py:930\u001b[0m, in \u001b[0;36mcheck_array\u001b[1;34m(array, accept_sparse, accept_large_sparse, dtype, order, copy, force_all_finite, ensure_2d, allow_nd, ensure_min_samples, ensure_min_features, estimator, input_name)\u001b[0m\n\u001b[0;32m    927\u001b[0m \u001b[38;5;28;01mif\u001b[39;00m ensure_2d:\n\u001b[0;32m    928\u001b[0m     \u001b[38;5;66;03m# If input is scalar raise error\u001b[39;00m\n\u001b[0;32m    929\u001b[0m     \u001b[38;5;28;01mif\u001b[39;00m array\u001b[38;5;241m.\u001b[39mndim \u001b[38;5;241m==\u001b[39m \u001b[38;5;241m0\u001b[39m:\n\u001b[1;32m--> 930\u001b[0m         \u001b[38;5;28;01mraise\u001b[39;00m \u001b[38;5;167;01mValueError\u001b[39;00m(\n\u001b[0;32m    931\u001b[0m             \u001b[38;5;124m\"\u001b[39m\u001b[38;5;124mExpected 2D array, got scalar array instead:\u001b[39m\u001b[38;5;130;01m\\n\u001b[39;00m\u001b[38;5;124marray=\u001b[39m\u001b[38;5;132;01m{}\u001b[39;00m\u001b[38;5;124m.\u001b[39m\u001b[38;5;130;01m\\n\u001b[39;00m\u001b[38;5;124m\"\u001b[39m\n\u001b[0;32m    932\u001b[0m             \u001b[38;5;124m\"\u001b[39m\u001b[38;5;124mReshape your data either using array.reshape(-1, 1) if \u001b[39m\u001b[38;5;124m\"\u001b[39m\n\u001b[0;32m    933\u001b[0m             \u001b[38;5;124m\"\u001b[39m\u001b[38;5;124myour data has a single feature or array.reshape(1, -1) \u001b[39m\u001b[38;5;124m\"\u001b[39m\n\u001b[0;32m    934\u001b[0m             \u001b[38;5;124m\"\u001b[39m\u001b[38;5;124mif it contains a single sample.\u001b[39m\u001b[38;5;124m\"\u001b[39m\u001b[38;5;241m.\u001b[39mformat(array)\n\u001b[0;32m    935\u001b[0m         )\n\u001b[0;32m    936\u001b[0m     \u001b[38;5;66;03m# If input is 1D raise error\u001b[39;00m\n\u001b[0;32m    937\u001b[0m     \u001b[38;5;28;01mif\u001b[39;00m array\u001b[38;5;241m.\u001b[39mndim \u001b[38;5;241m==\u001b[39m \u001b[38;5;241m1\u001b[39m:\n",
      "\u001b[1;31mValueError\u001b[0m: Expected 2D array, got scalar array instead:\narray=E Information Report\n(ores section 184 code of criminal procedure)\n\n4. District:- A.C.B. he) 12124 Head Constable Centre, ony Jaipur\nSerial Number vss Date...... 22-12) 202%\n2. 0) Act Aero Prevention Act 1988 (As amended in 2018 Section-1, 7A\n(2) Act- Indian Penal Code Section - 120B\n8) Act... ARE\n(@) Other Acts promulgated... only ~\n3. @) Journal General Report Number............ OS 9. Time...... 3... 29.\n(@) Day of crime...Monday...Date...18122023\n(c) Date of receipt of information at the police station... 2209202 3 time 05.30 pm\n4. Types of Information Written,” Oral – Handwritten Report\n, Place of incident:- Office of Sub Divisional Officer Mandalgarh District Bhilwara\n(Direction and distance from police station - Bajanib Chowki is about 105 km in west-south direction from Kota.\n(6) 'Address:- Office of Sub Divisional Officer Mandalgarh District Bhilwara\n'Jarayam dehi number..\n(c) If it is outside the limits of this police station, then\nPolice Station –\n6... Complainant//Informant :-\n(@) Nose-Shri Sanjay Rathod\n(b) Father's name - Shri Ramswaroop\n(c) Date/Year of Birth… Age 42 years\n(d) Nationality:-Indian (y) Date of issue of passport.\nPlace of issue.\n(9Business-Business\n(L) Address – Aditya Awas Bajrang Nagar Kota Mobile No. 9829080944\n7. Details of known/unknown suspected accused with complete particulars:-\n\n() Shri Mahei Gagoria S/o Shri Bhairlal Gagoria Caste Ranger Age 27 years Resident Hiv Kutir\nShastri Nagar Kankroli, Rajsamand Hall Subdivision Officer, Subdivision Mandalgarh District\nBhilwara.\n\n© Mr. Rahul Dhakad son of Mr. Bhudev Singh age 32 years resident wate kalan tehsil wair district\nBharatpur Hall Tehsildar, Tehsil Mandalgarh District Bhilwara.\n\n8. SR of delay in giving information by the complainant/informant...\n& Particulars of stolen property involved (Attach additional page if required)\n10 Total value of stolen/involved properties...Rs.0000//-.\n\n41… Panchnama/“UD. Case number (if any)\n\nContents First Information Report (if required)\n\nSir,\nIt is requested that on date 22002009 at 5.30 PM the complainant Shri Sanjay Singh Rathod S/o.\nShri Ramswaroop Caste Rajput Age 42 years Resident Aditya Residence Bajrang Nagar Kota Bureau Office\nin Kota Have you ever thought of sending a written letter to the Additional Superintendent of Police to this effect?\nPresented that the applicant resides at Aditya Awas Bajrang Nagar. My father-in-law Mr. Chandraveer Singh\nShaktawat was village Shyampura Panchayat Samiti Bijolia Tehsil Mandalgarh whose first marriage was Smt.\nHe is married to Bimla Bhadauria who has a daughter named Darpan. I have been married to Darpan for almost 15 years.\nHad happened before. My father-in-law married Mrs. Kamalendu Kanwar for the second time without divorce. my mother in law\nDue to my job in Jhalrapatan Hospital, my mother-in-law Bimal Bhadauria mostly with us\nUsed to come and go. Therefore, after retirement, she started living with me. My father in law death July 2022\nDue to marriage, father-in-law's second wife Kamalendu Kar (Sarpanch and Tehsildar) Seema Badhel\nBy meeting him and claiming to be my father-in-law's heir, my father-in-law Chandraveer Singh ji's entire\nAccount No. 124 of Agricultural Land Patwar Halka Shyampura, District No. 10001019,\n891,892.893,894.898,9999.900.901.902.903: and account number 123, 1602, 1609,\n169516a7,1698, 1699,1700,1 Kamalendu Kanwar himself in the documents of 701,1702, 1703,1704/1771,172\n\nsa.\nReshape your data either using array.reshape(-1, 1) if your data has a single feature or array.reshape(1, -1) if it contains a single sample."
     ]
    }
   ],
   "source": [
    "test=\"E Information Report\\n(ores section 184 code of criminal procedure)\\n\\n4. District:- A.C.B. he) 12124 Head Constable Centre, ony Jaipur\\nSerial Number vss Date...... 22-12) 202%\\n2. 0) Act Aero Prevention Act 1988 (As amended in 2018 Section-1, 7A\\n(2) Act- Indian Penal Code Section - 120B\\n8) Act... ARE\\n(@) Other Acts promulgated... only ~\\n3. @) Journal General Report Number............ OS 9. Time...... 3... 29.\\n(@) Day of crime...Monday...Date...18122023\\n(c) Date of receipt of information at the police station... 2209202 3 time 05.30 pm\\n4. Types of Information Written,” Oral – Handwritten Report\\n, Place of incident:- Office of Sub Divisional Officer Mandalgarh District Bhilwara\\n(Direction and distance from police station - Bajanib Chowki is about 105 km in west-south direction from Kota.\\n(6) 'Address:- Office of Sub Divisional Officer Mandalgarh District Bhilwara\\n'Jarayam dehi number..\\n(c) If it is outside the limits of this police station, then\\nPolice Station –\\n6... Complainant//Informant :-\\n(@) Nose-Shri Sanjay Rathod\\n(b) Father's name - Shri Ramswaroop\\n(c) Date/Year of Birth… Age 42 years\\n(d) Nationality:-Indian (y) Date of issue of passport.\\nPlace of issue.\\n(9Business-Business\\n(L) Address – Aditya Awas Bajrang Nagar Kota Mobile No. 9829080944\\n7. Details of known/unknown suspected accused with complete particulars:-\\n\\n() Shri Mahei Gagoria S/o Shri Bhairlal Gagoria Caste Ranger Age 27 years Resident Hiv Kutir\\nShastri Nagar Kankroli, Rajsamand Hall Subdivision Officer, Subdivision Mandalgarh District\\nBhilwara.\\n\\n© Mr. Rahul Dhakad son of Mr. Bhudev Singh age 32 years resident wate kalan tehsil wair district\\nBharatpur Hall Tehsildar, Tehsil Mandalgarh District Bhilwara.\\n\\n8. SR of delay in giving information by the complainant/informant...\\n& Particulars of stolen property involved (Attach additional page if required)\\n10 Total value of stolen/involved properties...Rs.0000//-.\\n\\n41… Panchnama/“UD. Case number (if any)\\n\\nContents First Information Report (if required)\\n\\nSir,\\nIt is requested that on date 22002009 at 5.30 PM the complainant Shri Sanjay Singh Rathod S/o.\\nShri Ramswaroop Caste Rajput Age 42 years Resident Aditya Residence Bajrang Nagar Kota Bureau Office\\nin Kota Have you ever thought of sending a written letter to the Additional Superintendent of Police to this effect?\\nPresented that the applicant resides at Aditya Awas Bajrang Nagar. My father-in-law Mr. Chandraveer Singh\\nShaktawat was village Shyampura Panchayat Samiti Bijolia Tehsil Mandalgarh whose first marriage was Smt.\\nHe is married to Bimla Bhadauria who has a daughter named Darpan. I have been married to Darpan for almost 15 years.\\nHad happened before. My father-in-law married Mrs. Kamalendu Kanwar for the second time without divorce. my mother in law\\nDue to my job in Jhalrapatan Hospital, my mother-in-law Bimal Bhadauria mostly with us\\nUsed to come and go. Therefore, after retirement, she started living with me. My father in law death July 2022\\nDue to marriage, father-in-law's second wife Kamalendu Kar (Sarpanch and Tehsildar) Seema Badhel\\nBy meeting him and claiming to be my father-in-law's heir, my father-in-law Chandraveer Singh ji's entire\\nAccount No. 124 of Agricultural Land Patwar Halka Shyampura, District No. 10001019,\\n891,892.893,894.898,9999.900.901.902.903: and account number 123, 1602, 1609,\\n169516a7,1698, 1699,1700,1 Kamalendu Kanwar himself in the documents of 701,1702, 1703,1704/1771,172\\n\\nsa\"\n",
    "test = test.reshape\n",
    "predictions = model.predict(test)"
   ]
  },
  {
   "cell_type": "code",
   "execution_count": 27,
   "metadata": {},
   "outputs": [
    {
     "name": "stdout",
     "output_type": "stream",
     "text": [
      "Accuracy: 0.09\n"
     ]
    }
   ],
   "source": [
    "# Evaluate the model\n",
    "accuracy = accuracy_score(y_test, predictions)\n",
    "print(f'Accuracy: {accuracy:.2f}')"
   ]
  }
 ],
 "metadata": {
  "kernelspec": {
   "display_name": "Python 3",
   "language": "python",
   "name": "python3"
  },
  "language_info": {
   "codemirror_mode": {
    "name": "ipython",
    "version": 3
   },
   "file_extension": ".py",
   "mimetype": "text/x-python",
   "name": "python",
   "nbconvert_exporter": "python",
   "pygments_lexer": "ipython3",
   "version": "3.11.7"
  }
 },
 "nbformat": 4,
 "nbformat_minor": 2
}
